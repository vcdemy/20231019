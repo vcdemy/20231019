{
  "nbformat": 4,
  "nbformat_minor": 0,
  "metadata": {
    "colab": {
      "provenance": [],
      "authorship_tag": "ABX9TyOzecFLuztXsvIQJTD11jHE",
      "include_colab_link": true
    },
    "kernelspec": {
      "name": "python3",
      "display_name": "Python 3"
    },
    "language_info": {
      "name": "python"
    }
  },
  "cells": [
    {
      "cell_type": "markdown",
      "metadata": {
        "id": "view-in-github",
        "colab_type": "text"
      },
      "source": [
        "<a href=\"https://colab.research.google.com/github/vcdemy/20231019/blob/main/20231020%E7%AD%86%E8%A8%98.ipynb\" target=\"_parent\"><img src=\"https://colab.research.google.com/assets/colab-badge.svg\" alt=\"Open In Colab\"/></a>"
      ]
    },
    {
      "cell_type": "markdown",
      "source": [
        "# 20231020筆記"
      ],
      "metadata": {
        "id": "a0ApqLcbotXH"
      }
    },
    {
      "cell_type": "markdown",
      "source": [
        "## 練習:\n",
        "\n",
        "用萌典API寫一個中文辭典"
      ],
      "metadata": {
        "id": "1mxLm02Ipoaf"
      }
    },
    {
      "cell_type": "code",
      "execution_count": null,
      "metadata": {
        "id": "V1FVm8EqoorW"
      },
      "outputs": [],
      "source": []
    }
  ]
}