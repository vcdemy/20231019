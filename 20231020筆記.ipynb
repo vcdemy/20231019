{
  "nbformat": 4,
  "nbformat_minor": 0,
  "metadata": {
    "colab": {
      "provenance": [],
      "authorship_tag": "ABX9TyMGtNvfx6WHFzfMC1v3DG47",
      "include_colab_link": true
    },
    "kernelspec": {
      "name": "python3",
      "display_name": "Python 3"
    },
    "language_info": {
      "name": "python"
    }
  },
  "cells": [
    {
      "cell_type": "markdown",
      "metadata": {
        "id": "view-in-github",
        "colab_type": "text"
      },
      "source": [
        "<a href=\"https://colab.research.google.com/github/vcdemy/20231019/blob/main/20231020%E7%AD%86%E8%A8%98.ipynb\" target=\"_parent\"><img src=\"https://colab.research.google.com/assets/colab-badge.svg\" alt=\"Open In Colab\"/></a>"
      ]
    },
    {
      "cell_type": "markdown",
      "source": [
        "# 20231020筆記"
      ],
      "metadata": {
        "id": "a0ApqLcbotXH"
      }
    },
    {
      "cell_type": "markdown",
      "source": [
        "## 練習:\n",
        "\n",
        "用萌典API寫一個中文辭典\n",
        "\n",
        "API連結: https://www.moedict.tw/uni/"
      ],
      "metadata": {
        "id": "1mxLm02Ipoaf"
      }
    },
    {
      "cell_type": "code",
      "execution_count": 1,
      "metadata": {
        "id": "V1FVm8EqoorW"
      },
      "outputs": [],
      "source": [
        "import requests"
      ]
    },
    {
      "cell_type": "code",
      "source": [
        "q = \"教室\"\n",
        "url = f\" https://www.moedict.tw/uni/{q}\""
      ],
      "metadata": {
        "id": "xpmLge6KqR7I"
      },
      "execution_count": 2,
      "outputs": []
    },
    {
      "cell_type": "code",
      "source": [
        "url"
      ],
      "metadata": {
        "colab": {
          "base_uri": "https://localhost:8080/",
          "height": 35
        },
        "id": "GBcooKk7qeWz",
        "outputId": "01542c60-bf3f-4856-ee22-15b6ff2e7840"
      },
      "execution_count": 3,
      "outputs": [
        {
          "output_type": "execute_result",
          "data": {
            "text/plain": [
              "' https://www.moedict.tw/uni/教室'"
            ],
            "application/vnd.google.colaboratory.intrinsic+json": {
              "type": "string"
            }
          },
          "metadata": {},
          "execution_count": 3
        }
      ]
    },
    {
      "cell_type": "code",
      "source": [
        "data = requests.get(url, verify=False).json()"
      ],
      "metadata": {
        "colab": {
          "base_uri": "https://localhost:8080/"
        },
        "id": "ZHG5TW8RqfkH",
        "outputId": "ac9f1b5a-3fc3-435a-ecc7-b67cc0b85d8f"
      },
      "execution_count": 4,
      "outputs": [
        {
          "output_type": "stream",
          "name": "stderr",
          "text": [
            "/usr/local/lib/python3.10/dist-packages/urllib3/connectionpool.py:1100: InsecureRequestWarning: Unverified HTTPS request is being made to host 'www.moedict.tw'. Adding certificate verification is strongly advised. See: https://urllib3.readthedocs.io/en/latest/advanced-usage.html#tls-warnings\n",
            "  warnings.warn(\n"
          ]
        }
      ]
    },
    {
      "cell_type": "code",
      "source": [
        "data['heteronyms'][0]['definitions'][0]['def']"
      ],
      "metadata": {
        "colab": {
          "base_uri": "https://localhost:8080/",
          "height": 35
        },
        "id": "ME7pm42wqnV0",
        "outputId": "cf748157-2388-4d05-f419-9a50fa502be7"
      },
      "execution_count": 10,
      "outputs": [
        {
          "output_type": "execute_result",
          "data": {
            "text/plain": [
              "'學校裡進行教學活動的房間。'"
            ],
            "application/vnd.google.colaboratory.intrinsic+json": {
              "type": "string"
            }
          },
          "metadata": {},
          "execution_count": 10
        }
      ]
    },
    {
      "cell_type": "code",
      "source": [
        "def lookup(word):\n",
        "  url = f\" https://www.moedict.tw/uni/{word}\"\n",
        "  data = requests.get(url, verify=False).json()\n",
        "  return data['heteronyms'][0]['definitions'][0]['def']"
      ],
      "metadata": {
        "id": "byQFyUfoqpax"
      },
      "execution_count": 2,
      "outputs": []
    },
    {
      "cell_type": "code",
      "source": [
        "lookup('老師')"
      ],
      "metadata": {
        "colab": {
          "base_uri": "https://localhost:8080/",
          "height": 90
        },
        "id": "m5GlNGDErM8T",
        "outputId": "0f4b71f9-f39a-4b1e-b0b4-2a6e2ac7c35b"
      },
      "execution_count": 12,
      "outputs": [
        {
          "output_type": "stream",
          "name": "stderr",
          "text": [
            "/usr/local/lib/python3.10/dist-packages/urllib3/connectionpool.py:1100: InsecureRequestWarning: Unverified HTTPS request is being made to host 'www.moedict.tw'. Adding certificate verification is strongly advised. See: https://urllib3.readthedocs.io/en/latest/advanced-usage.html#tls-warnings\n",
            "  warnings.warn(\n"
          ]
        },
        {
          "output_type": "execute_result",
          "data": {
            "text/plain": [
              "'對傳授道業、學問或技藝者的尊稱。'"
            ],
            "application/vnd.google.colaboratory.intrinsic+json": {
              "type": "string"
            }
          },
          "metadata": {},
          "execution_count": 12
        }
      ]
    },
    {
      "cell_type": "code",
      "source": [
        "# 如果已經有 gradio 就不用再安裝\n",
        "!pip install gradio"
      ],
      "metadata": {
        "id": "axTUDom9rPeY"
      },
      "execution_count": null,
      "outputs": []
    },
    {
      "cell_type": "code",
      "source": [
        "import gradio as gr"
      ],
      "metadata": {
        "id": "KPYhHtA2r1UY"
      },
      "execution_count": 3,
      "outputs": []
    },
    {
      "cell_type": "code",
      "source": [
        "gr.Interface(lookup, 'text', 'text').launch()"
      ],
      "metadata": {
        "colab": {
          "base_uri": "https://localhost:8080/",
          "height": 646
        },
        "id": "zJKvx5IZreEg",
        "outputId": "c96f3396-1233-46b2-e139-d9872cd90fe8"
      },
      "execution_count": 4,
      "outputs": [
        {
          "output_type": "stream",
          "name": "stdout",
          "text": [
            "Setting queue=True in a Colab notebook requires sharing enabled. Setting `share=True` (you can turn this off by setting `share=False` in `launch()` explicitly).\n",
            "\n",
            "Colab notebook detected. To show errors in colab notebook, set debug=True in launch()\n",
            "Running on public URL: https://26f509d4802d9e9bcc.gradio.live\n",
            "\n",
            "This share link expires in 72 hours. For free permanent hosting and GPU upgrades, run `gradio deploy` from Terminal to deploy to Spaces (https://huggingface.co/spaces)\n"
          ]
        },
        {
          "output_type": "display_data",
          "data": {
            "text/plain": [
              "<IPython.core.display.HTML object>"
            ],
            "text/html": [
              "<div><iframe src=\"https://26f509d4802d9e9bcc.gradio.live\" width=\"100%\" height=\"500\" allow=\"autoplay; camera; microphone; clipboard-read; clipboard-write;\" frameborder=\"0\" allowfullscreen></iframe></div>"
            ]
          },
          "metadata": {}
        },
        {
          "output_type": "execute_result",
          "data": {
            "text/plain": []
          },
          "metadata": {},
          "execution_count": 4
        }
      ]
    },
    {
      "cell_type": "markdown",
      "source": [
        "## 容器型別複習\n",
        "\n",
        "* list\n",
        "* tuple\n",
        "* dict\n",
        "* set"
      ],
      "metadata": {
        "id": "SJ3ImYWttdYW"
      }
    },
    {
      "cell_type": "code",
      "source": [
        "x = list('abcde')"
      ],
      "metadata": {
        "id": "ndjfbqd_rxdU"
      },
      "execution_count": 5,
      "outputs": []
    },
    {
      "cell_type": "code",
      "source": [
        "x"
      ],
      "metadata": {
        "colab": {
          "base_uri": "https://localhost:8080/"
        },
        "id": "sf_Cwxh-tp6l",
        "outputId": "7d9c71dc-54f7-49fd-ef36-891ffa3f1bfe"
      },
      "execution_count": 6,
      "outputs": [
        {
          "output_type": "execute_result",
          "data": {
            "text/plain": [
              "['a', 'b', 'c', 'd', 'e']"
            ]
          },
          "metadata": {},
          "execution_count": 6
        }
      ]
    },
    {
      "cell_type": "code",
      "source": [
        "x.append?"
      ],
      "metadata": {
        "id": "SriRcMC7tqJY"
      },
      "execution_count": 7,
      "outputs": []
    },
    {
      "cell_type": "code",
      "source": [
        "x.append(123)"
      ],
      "metadata": {
        "id": "ZFOxd78it4FN"
      },
      "execution_count": 8,
      "outputs": []
    },
    {
      "cell_type": "code",
      "source": [
        "x"
      ],
      "metadata": {
        "colab": {
          "base_uri": "https://localhost:8080/"
        },
        "id": "5nzmHuu0t_JW",
        "outputId": "ec65f662-c077-46a8-9a22-463c2035673f"
      },
      "execution_count": 9,
      "outputs": [
        {
          "output_type": "execute_result",
          "data": {
            "text/plain": [
              "['a', 'b', 'c', 'd', 'e', 123]"
            ]
          },
          "metadata": {},
          "execution_count": 9
        }
      ]
    },
    {
      "cell_type": "code",
      "source": [
        "y = tuple('abcde')"
      ],
      "metadata": {
        "id": "SZ9JQ3bkt_4y"
      },
      "execution_count": 10,
      "outputs": []
    },
    {
      "cell_type": "code",
      "source": [
        "y"
      ],
      "metadata": {
        "colab": {
          "base_uri": "https://localhost:8080/"
        },
        "id": "_uEmNhwDuRPJ",
        "outputId": "684e5a79-2101-4033-f0b4-3cc1505d7507"
      },
      "execution_count": 11,
      "outputs": [
        {
          "output_type": "execute_result",
          "data": {
            "text/plain": [
              "('a', 'b', 'c', 'd', 'e')"
            ]
          },
          "metadata": {},
          "execution_count": 11
        }
      ]
    },
    {
      "cell_type": "code",
      "source": [
        "y.count?"
      ],
      "metadata": {
        "id": "IpZ9dOd1uRoi"
      },
      "execution_count": 12,
      "outputs": []
    },
    {
      "cell_type": "code",
      "source": [
        "y.count('b')"
      ],
      "metadata": {
        "colab": {
          "base_uri": "https://localhost:8080/"
        },
        "id": "DxV5LJNOuWEw",
        "outputId": "8cb56456-1dd8-4ad1-be82-4f20f9db6c64"
      },
      "execution_count": 13,
      "outputs": [
        {
          "output_type": "execute_result",
          "data": {
            "text/plain": [
              "1"
            ]
          },
          "metadata": {},
          "execution_count": 13
        }
      ]
    },
    {
      "cell_type": "code",
      "source": [
        "y.index?"
      ],
      "metadata": {
        "id": "E2CIjs6dubuD"
      },
      "execution_count": 14,
      "outputs": []
    },
    {
      "cell_type": "code",
      "source": [
        "y.index('d')"
      ],
      "metadata": {
        "colab": {
          "base_uri": "https://localhost:8080/"
        },
        "id": "kE6UdE3iuepd",
        "outputId": "fd6abcb2-deed-47c4-b178-11ff246430d9"
      },
      "execution_count": 15,
      "outputs": [
        {
          "output_type": "execute_result",
          "data": {
            "text/plain": [
              "3"
            ]
          },
          "metadata": {},
          "execution_count": 15
        }
      ]
    },
    {
      "cell_type": "code",
      "source": [
        "z = (1, 2)"
      ],
      "metadata": {
        "id": "-m55Y0RtuimH"
      },
      "execution_count": 16,
      "outputs": []
    },
    {
      "cell_type": "code",
      "source": [
        "type(z)"
      ],
      "metadata": {
        "colab": {
          "base_uri": "https://localhost:8080/"
        },
        "id": "qLVLr__Iu8vt",
        "outputId": "22208a3a-0251-4db0-b5b6-d83fa74c375d"
      },
      "execution_count": 17,
      "outputs": [
        {
          "output_type": "execute_result",
          "data": {
            "text/plain": [
              "tuple"
            ]
          },
          "metadata": {},
          "execution_count": 17
        }
      ]
    },
    {
      "cell_type": "code",
      "source": [
        "w = 3, 4"
      ],
      "metadata": {
        "id": "ojCnGDy5u-eD"
      },
      "execution_count": 20,
      "outputs": []
    },
    {
      "cell_type": "code",
      "source": [
        "type(w)"
      ],
      "metadata": {
        "colab": {
          "base_uri": "https://localhost:8080/"
        },
        "id": "kqukfYTwvBIM",
        "outputId": "f0e7124a-5266-4c1a-b1e4-d8fbcc6fa7c8"
      },
      "execution_count": 21,
      "outputs": [
        {
          "output_type": "execute_result",
          "data": {
            "text/plain": [
              "tuple"
            ]
          },
          "metadata": {},
          "execution_count": 21
        }
      ]
    },
    {
      "cell_type": "code",
      "source": [
        "w"
      ],
      "metadata": {
        "colab": {
          "base_uri": "https://localhost:8080/"
        },
        "id": "VvB70_63vIK1",
        "outputId": "b2ba8c8d-8e80-43e6-98d3-0dfef0a4471b"
      },
      "execution_count": 22,
      "outputs": [
        {
          "output_type": "execute_result",
          "data": {
            "text/plain": [
              "(3, 4)"
            ]
          },
          "metadata": {},
          "execution_count": 22
        }
      ]
    },
    {
      "cell_type": "code",
      "source": [
        "a, b = w"
      ],
      "metadata": {
        "id": "YG6j1GMivKzP"
      },
      "execution_count": 23,
      "outputs": []
    },
    {
      "cell_type": "code",
      "source": [
        "a"
      ],
      "metadata": {
        "colab": {
          "base_uri": "https://localhost:8080/"
        },
        "id": "B58FN04IvRfP",
        "outputId": "54ab7073-d013-4edd-c08a-87c826dbb97e"
      },
      "execution_count": 24,
      "outputs": [
        {
          "output_type": "execute_result",
          "data": {
            "text/plain": [
              "3"
            ]
          },
          "metadata": {},
          "execution_count": 24
        }
      ]
    },
    {
      "cell_type": "code",
      "source": [
        "b"
      ],
      "metadata": {
        "colab": {
          "base_uri": "https://localhost:8080/"
        },
        "id": "RBEK77ozvUMy",
        "outputId": "8ad16042-e3ab-412c-cb57-ca92e767dad6"
      },
      "execution_count": 25,
      "outputs": [
        {
          "output_type": "execute_result",
          "data": {
            "text/plain": [
              "4"
            ]
          },
          "metadata": {},
          "execution_count": 25
        }
      ]
    },
    {
      "cell_type": "code",
      "source": [
        "u = (1)"
      ],
      "metadata": {
        "id": "icn6W_oQvVEt"
      },
      "execution_count": 26,
      "outputs": []
    },
    {
      "cell_type": "code",
      "source": [
        "type(u)"
      ],
      "metadata": {
        "colab": {
          "base_uri": "https://localhost:8080/"
        },
        "id": "xVr4CDnmvkFi",
        "outputId": "91dc1557-0b3b-493f-d367-8d0528dd1d2f"
      },
      "execution_count": 27,
      "outputs": [
        {
          "output_type": "execute_result",
          "data": {
            "text/plain": [
              "int"
            ]
          },
          "metadata": {},
          "execution_count": 27
        }
      ]
    },
    {
      "cell_type": "code",
      "source": [
        "v = (1,)"
      ],
      "metadata": {
        "id": "FzO69qmvvngu"
      },
      "execution_count": 28,
      "outputs": []
    },
    {
      "cell_type": "code",
      "source": [
        "type(v)"
      ],
      "metadata": {
        "colab": {
          "base_uri": "https://localhost:8080/"
        },
        "id": "GjP36QTYvr_2",
        "outputId": "3bc1fbff-3278-48d0-94e9-2e340afb75cc"
      },
      "execution_count": 29,
      "outputs": [
        {
          "output_type": "execute_result",
          "data": {
            "text/plain": [
              "tuple"
            ]
          },
          "metadata": {},
          "execution_count": 29
        }
      ]
    },
    {
      "cell_type": "markdown",
      "source": [
        "## 基本語法\n",
        "\n",
        "* if statements (條件式)\n",
        "* loops (迴圈)\n",
        "* functions (函式)\n",
        "* Exception Handling (例外處理)"
      ],
      "metadata": {
        "id": "aCxxVO7Vv6QG"
      }
    },
    {
      "cell_type": "markdown",
      "source": [
        "### if statements (條件式)"
      ],
      "metadata": {
        "id": "YRIPytM17Fuw"
      }
    },
    {
      "cell_type": "code",
      "source": [
        "a = 2\n",
        "b = 2"
      ],
      "metadata": {
        "id": "syakH6bDvtmy"
      },
      "execution_count": 38,
      "outputs": []
    },
    {
      "cell_type": "code",
      "source": [
        "if a > b:\n",
        "  print('a 大於 b')"
      ],
      "metadata": {
        "colab": {
          "base_uri": "https://localhost:8080/"
        },
        "id": "B9urQslHwQ1Y",
        "outputId": "f05c6d0f-0ec6-473b-a05c-330de0460fd4"
      },
      "execution_count": 33,
      "outputs": [
        {
          "output_type": "stream",
          "name": "stdout",
          "text": [
            "a 大於 b\n"
          ]
        }
      ]
    },
    {
      "cell_type": "code",
      "source": [
        "if a > b:\n",
        "  print('a 大於 b')\n",
        "else:\n",
        "  print('a 沒有大於 b')"
      ],
      "metadata": {
        "colab": {
          "base_uri": "https://localhost:8080/"
        },
        "id": "9KCLQwvbwYr4",
        "outputId": "8df2aeef-cd03-4fde-ba22-bf3b6e1d3846"
      },
      "execution_count": 36,
      "outputs": [
        {
          "output_type": "stream",
          "name": "stdout",
          "text": [
            "a 沒有大於 b\n"
          ]
        }
      ]
    },
    {
      "cell_type": "code",
      "source": [
        "if a > b:\n",
        "  print('a 大於 b')\n",
        "elif a < b:\n",
        "  print('a 小於 b')\n",
        "else:\n",
        "  print('a 等於 b')"
      ],
      "metadata": {
        "colab": {
          "base_uri": "https://localhost:8080/"
        },
        "id": "OzYMrz9Zwqa8",
        "outputId": "2dfa8e49-b2e7-4e15-9ece-7a1e3e67bdf7"
      },
      "execution_count": 39,
      "outputs": [
        {
          "output_type": "stream",
          "name": "stdout",
          "text": [
            "a 等於 b\n"
          ]
        }
      ]
    },
    {
      "cell_type": "markdown",
      "source": [
        "# 練習: (計算BMI)\n",
        "\n",
        "輸入身高(公尺)、體重(公斤)，計算BMI，然後判斷健康狀況。\n",
        "\n",
        "$ bmi = \\frac{體重(公斤)}{身高(公尺)^2}$\n",
        "\n",
        "|bmi|健康狀況|\n",
        "|:-:|:-:|\n",
        "|bmi<18.5|體重太輕|\n",
        "|18.5<=bmi<24|健康體重|\n",
        "|bmi>=24|體重太重|"
      ],
      "metadata": {
        "id": "fyzsFUo-xYys"
      }
    },
    {
      "cell_type": "markdown",
      "source": [
        "上面的equation的markdown寫法！\n",
        "equation的部分可以參考：\n",
        "https://en.wikibooks.org/wiki/LaTeX/Mathematics\n",
        "\n",
        "<pre>\n",
        "$ bmi = \\frac{體重(公斤)}{身高(公尺)^2}$\n",
        "\n",
        "|bmi|健康狀況|\n",
        "|:-:|:-:|\n",
        "|bmi<18.5|體重太輕|\n",
        "|18.5<=bmi<24|健康體重|\n",
        "|bmi>=24|體重太重|\n",
        "</pre>"
      ],
      "metadata": {
        "id": "RKN_mgCG3DFb"
      }
    },
    {
      "cell_type": "code",
      "source": [
        "h = 1.83\n",
        "w = 80\n",
        "bmi = 80/(1.83**2)"
      ],
      "metadata": {
        "id": "02PN8wPZxC3p"
      },
      "execution_count": 40,
      "outputs": []
    },
    {
      "cell_type": "code",
      "source": [
        "bmi"
      ],
      "metadata": {
        "colab": {
          "base_uri": "https://localhost:8080/"
        },
        "id": "wGRQsN5fy2s2",
        "outputId": "b1a480df-8ce2-4427-a933-cadbf7b0b543"
      },
      "execution_count": 41,
      "outputs": [
        {
          "output_type": "execute_result",
          "data": {
            "text/plain": [
              "23.888440980620498"
            ]
          },
          "metadata": {},
          "execution_count": 41
        }
      ]
    },
    {
      "cell_type": "code",
      "source": [
        "if bmi < 18.5:\n",
        "  print('體重太輕')\n",
        "elif bmi >= 24:\n",
        "  print('體重太重')\n",
        "else:\n",
        "  print('健康體重')"
      ],
      "metadata": {
        "colab": {
          "base_uri": "https://localhost:8080/"
        },
        "id": "atM5QEeMy3I2",
        "outputId": "cda69f9f-9714-4daa-912e-66730bfad3cf"
      },
      "execution_count": 42,
      "outputs": [
        {
          "output_type": "stream",
          "name": "stdout",
          "text": [
            "健康體重\n"
          ]
        }
      ]
    },
    {
      "cell_type": "code",
      "source": [
        "def health(h, w):\n",
        "  bmi = w/(h**2)\n",
        "  if bmi < 18.5:\n",
        "    return '體重太輕'\n",
        "  elif bmi >= 24:\n",
        "    return '體重太重'\n",
        "  else:\n",
        "    return '健康體重'"
      ],
      "metadata": {
        "id": "k_wGhA3dz5gd"
      },
      "execution_count": 43,
      "outputs": []
    },
    {
      "cell_type": "code",
      "source": [
        "# return 跟 print 的差別在有沒有傳東西回 x\n",
        "x = health(1.83, 80)"
      ],
      "metadata": {
        "id": "RPUttDZ04Cmt"
      },
      "execution_count": 44,
      "outputs": []
    },
    {
      "cell_type": "code",
      "source": [
        "x"
      ],
      "metadata": {
        "colab": {
          "base_uri": "https://localhost:8080/",
          "height": 35
        },
        "id": "J_9i7_px4JPQ",
        "outputId": "8bd5bf79-10f9-43b0-bcf1-d31c65760752"
      },
      "execution_count": 45,
      "outputs": [
        {
          "output_type": "execute_result",
          "data": {
            "text/plain": [
              "'健康體重'"
            ],
            "application/vnd.google.colaboratory.intrinsic+json": {
              "type": "string"
            }
          },
          "metadata": {},
          "execution_count": 45
        }
      ]
    },
    {
      "cell_type": "code",
      "source": [
        "gr.Interface(health, [\"number\",\"number\"], \"text\").launch()"
      ],
      "metadata": {
        "colab": {
          "base_uri": "https://localhost:8080/",
          "height": 646
        },
        "id": "LKxQXXBY4J3k",
        "outputId": "65c47d8d-b8fb-4589-a170-ad7430976738"
      },
      "execution_count": 47,
      "outputs": [
        {
          "output_type": "stream",
          "name": "stdout",
          "text": [
            "Setting queue=True in a Colab notebook requires sharing enabled. Setting `share=True` (you can turn this off by setting `share=False` in `launch()` explicitly).\n",
            "\n",
            "Colab notebook detected. To show errors in colab notebook, set debug=True in launch()\n",
            "Running on public URL: https://daa409706ccdad5b6d.gradio.live\n",
            "\n",
            "This share link expires in 72 hours. For free permanent hosting and GPU upgrades, run `gradio deploy` from Terminal to deploy to Spaces (https://huggingface.co/spaces)\n"
          ]
        },
        {
          "output_type": "display_data",
          "data": {
            "text/plain": [
              "<IPython.core.display.HTML object>"
            ],
            "text/html": [
              "<div><iframe src=\"https://daa409706ccdad5b6d.gradio.live\" width=\"100%\" height=\"500\" allow=\"autoplay; camera; microphone; clipboard-read; clipboard-write;\" frameborder=\"0\" allowfullscreen></iframe></div>"
            ]
          },
          "metadata": {}
        },
        {
          "output_type": "execute_result",
          "data": {
            "text/plain": []
          },
          "metadata": {},
          "execution_count": 47
        }
      ]
    },
    {
      "cell_type": "code",
      "source": [
        "def health01(h, w):\n",
        "  bmi = w/(h**2)\n",
        "  if bmi < 18.5:\n",
        "    return bmi, '體重太輕'\n",
        "  elif bmi >= 24:\n",
        "    return bmi, '體重太重'\n",
        "  else:\n",
        "    return bmi, '健康體重'"
      ],
      "metadata": {
        "id": "r26dPsGz5Rzw"
      },
      "execution_count": 48,
      "outputs": []
    },
    {
      "cell_type": "code",
      "source": [
        "gr.Interface(health01, [\"number\",\"number\"], [\"number\",\"text\"]).launch()"
      ],
      "metadata": {
        "colab": {
          "base_uri": "https://localhost:8080/",
          "height": 646
        },
        "id": "WN06NRM657u6",
        "outputId": "a135dfab-3a8a-4830-a9a5-00542c64b1ab"
      },
      "execution_count": 49,
      "outputs": [
        {
          "output_type": "stream",
          "name": "stdout",
          "text": [
            "Setting queue=True in a Colab notebook requires sharing enabled. Setting `share=True` (you can turn this off by setting `share=False` in `launch()` explicitly).\n",
            "\n",
            "Colab notebook detected. To show errors in colab notebook, set debug=True in launch()\n",
            "Running on public URL: https://1c11ed8fcf81d1b6a3.gradio.live\n",
            "\n",
            "This share link expires in 72 hours. For free permanent hosting and GPU upgrades, run `gradio deploy` from Terminal to deploy to Spaces (https://huggingface.co/spaces)\n"
          ]
        },
        {
          "output_type": "display_data",
          "data": {
            "text/plain": [
              "<IPython.core.display.HTML object>"
            ],
            "text/html": [
              "<div><iframe src=\"https://1c11ed8fcf81d1b6a3.gradio.live\" width=\"100%\" height=\"500\" allow=\"autoplay; camera; microphone; clipboard-read; clipboard-write;\" frameborder=\"0\" allowfullscreen></iframe></div>"
            ]
          },
          "metadata": {}
        },
        {
          "output_type": "execute_result",
          "data": {
            "text/plain": []
          },
          "metadata": {},
          "execution_count": 49
        }
      ]
    },
    {
      "cell_type": "markdown",
      "source": [
        "### 例外處理 (Exception Handling)"
      ],
      "metadata": {
        "id": "AjVLDn9o7RSc"
      }
    },
    {
      "cell_type": "code",
      "source": [
        "def add(a, b):\n",
        "  print(f\"{a} + {b} = {a+b}\")\n",
        "\n",
        "def sub(a, b):\n",
        "  print(f\"{a} - {b} = {a-b}\")\n",
        "\n",
        "def mul(a, b):\n",
        "  print(f\"{a} * {b} = {a*b}\")\n",
        "\n",
        "def div(a, b):\n",
        "  print(f\"{a} / {b} = {a/b}\")"
      ],
      "metadata": {
        "id": "DrhTVbcI6nyZ"
      },
      "execution_count": 54,
      "outputs": []
    },
    {
      "cell_type": "code",
      "source": [
        "fns = [add, sub, div, mul]"
      ],
      "metadata": {
        "id": "ZmdndNod7j7V"
      },
      "execution_count": 55,
      "outputs": []
    },
    {
      "cell_type": "code",
      "source": [
        "for fn in fns:\n",
        "  fn(1, 2)"
      ],
      "metadata": {
        "colab": {
          "base_uri": "https://localhost:8080/"
        },
        "id": "DbwyYRnE7lRC",
        "outputId": "18afc857-f821-4b4d-ce68-71b2e5524400"
      },
      "execution_count": 56,
      "outputs": [
        {
          "output_type": "stream",
          "name": "stdout",
          "text": [
            "1 + 2 = 3\n",
            "1 - 2 = -1\n",
            "1 / 2 = 0.5\n",
            "1 * 2 = 2\n"
          ]
        }
      ]
    },
    {
      "cell_type": "code",
      "source": [],
      "metadata": {
        "id": "_TKk3-jc9b9k"
      },
      "execution_count": null,
      "outputs": []
    }
  ]
}